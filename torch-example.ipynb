{
 "cells": [
  {
   "cell_type": "code",
   "execution_count": 1,
   "id": "8bc8d60c-52da-4db6-838c-f20d1595388d",
   "metadata": {},
   "outputs": [],
   "source": [
    "import torch"
   ]
  },
  {
   "cell_type": "code",
   "execution_count": 2,
   "id": "64607177-f35a-4e2d-a133-fc6f9a75f6d0",
   "metadata": {},
   "outputs": [
    {
     "data": {
      "text/plain": [
       "tensor([  4,  70,  85, -78,  21,  72])"
      ]
     },
     "execution_count": 2,
     "metadata": {},
     "output_type": "execute_result"
    }
   ],
   "source": [
    "randint = torch.randint(-100,100,(6,))\n",
    "randint"
   ]
  },
  {
   "cell_type": "code",
   "execution_count": 6,
   "id": "403d6c3d-f19a-4ae2-9a8d-9c93d06d1273",
   "metadata": {},
   "outputs": [
    {
     "data": {
      "text/plain": [
       "tensor([[0.1000, 0.2000],\n",
       "        [0.3000, 0.4000],\n",
       "        [0.5000, 0.6000]])"
      ]
     },
     "execution_count": 6,
     "metadata": {},
     "output_type": "execute_result"
    }
   ],
   "source": [
    "tensor = torch.tensor([[0.1,0.2],[0.3,0.4],[0.5,0.6]])\n",
    "tensor"
   ]
  },
  {
   "cell_type": "code",
   "execution_count": 8,
   "id": "5b11415a-95f9-44d9-b182-ea346c9b1fa7",
   "metadata": {},
   "outputs": [
    {
     "data": {
      "text/plain": [
       "tensor([[0., 0., 0.],\n",
       "        [0., 0., 0.]])"
      ]
     },
     "execution_count": 8,
     "metadata": {},
     "output_type": "execute_result"
    }
   ],
   "source": [
    "zeros = torch.zeros(2,3)\n",
    "zeros"
   ]
  },
  {
   "cell_type": "code",
   "execution_count": 9,
   "id": "5fbf536c-8ad1-4056-8f73-94828b6c305f",
   "metadata": {},
   "outputs": [
    {
     "data": {
      "text/plain": [
       "tensor([[1., 1., 1., 1.],\n",
       "        [1., 1., 1., 1.],\n",
       "        [1., 1., 1., 1.]])"
      ]
     },
     "execution_count": 9,
     "metadata": {},
     "output_type": "execute_result"
    }
   ],
   "source": [
    "ones = torch.ones(3,4)\n",
    "ones"
   ]
  },
  {
   "cell_type": "code",
   "execution_count": 10,
   "id": "3a997d0b-1776-46c9-bcd6-80198a441f0b",
   "metadata": {},
   "outputs": [
    {
     "data": {
      "text/plain": [
       "tensor([[1.1273e-08, 4.4291e-41, 1.7450e+30],\n",
       "        [3.2004e-41, 4.4842e-44, 0.0000e+00]])"
      ]
     },
     "execution_count": 10,
     "metadata": {},
     "output_type": "execute_result"
    }
   ],
   "source": [
    "input1 = torch.empty(2,3)\n",
    "input1"
   ]
  },
  {
   "cell_type": "code",
   "execution_count": 11,
   "id": "a5c426e1-fae3-4898-969a-a19666acc91c",
   "metadata": {},
   "outputs": [
    {
     "data": {
      "text/plain": [
       "tensor([0, 1, 2, 3, 4])"
      ]
     },
     "execution_count": 11,
     "metadata": {},
     "output_type": "execute_result"
    }
   ],
   "source": [
    "arange = torch.arange(5)\n",
    "arange"
   ]
  },
  {
   "cell_type": "code",
   "execution_count": 13,
   "id": "009482a3-b71f-46b9-ad51-a08495b687d0",
   "metadata": {},
   "outputs": [
    {
     "data": {
      "text/plain": [
       "tensor([ 3.0000,  4.4000,  5.8000,  7.2000,  8.6000, 10.0000])"
      ]
     },
     "execution_count": 13,
     "metadata": {},
     "output_type": "execute_result"
    }
   ],
   "source": [
    "linspace= torch.linspace(3,10,steps=6)\n",
    "linspace"
   ]
  },
  {
   "cell_type": "code",
   "execution_count": 14,
   "id": "8c49157a-a382-41ce-b9ea-4bc3e506485b",
   "metadata": {},
   "outputs": [
    {
     "data": {
      "text/plain": [
       "tensor([1.0000e-10, 1.0000e-05, 1.0000e+00, 1.0000e+05, 1.0000e+10])"
      ]
     },
     "execution_count": 14,
     "metadata": {},
     "output_type": "execute_result"
    }
   ],
   "source": [
    "logspace = torch.logspace(start=-10,end=10,steps=5)\n",
    "logspace"
   ]
  },
  {
   "cell_type": "code",
   "execution_count": 17,
   "id": "1bb559b9-a503-41a1-8c76-cf0f4a8b94e6",
   "metadata": {},
   "outputs": [
    {
     "data": {
      "text/plain": [
       "tensor([[1., 0., 0., 0., 0.],\n",
       "        [0., 1., 0., 0., 0.],\n",
       "        [0., 0., 1., 0., 0.],\n",
       "        [0., 0., 0., 1., 0.],\n",
       "        [0., 0., 0., 0., 1.]])"
      ]
     },
     "execution_count": 17,
     "metadata": {},
     "output_type": "execute_result"
    }
   ],
   "source": [
    "eye = torch.eye(5)\n",
    "eye"
   ]
  },
  {
   "cell_type": "code",
   "execution_count": 35,
   "id": "1301b2f2-e14c-462c-923b-4280021c2ae4",
   "metadata": {},
   "outputs": [
    {
     "data": {
      "text/plain": [
       "tensor([[ 98094666146288,  98094666320880,              80],\n",
       "        [             64,  98075087991555, 135751519067360]])"
      ]
     },
     "execution_count": 35,
     "metadata": {},
     "output_type": "execute_result"
    }
   ],
   "source": [
    "a = torch.empty((2,3), dtype=torch.int64)\n",
    "a"
   ]
  },
  {
   "cell_type": "code",
   "execution_count": 36,
   "id": "838db6ab-3b51-4033-ad3c-c6415467cbd2",
   "metadata": {},
   "outputs": [
    {
     "data": {
      "text/plain": [
       "tensor([[ 98094665383104,  98094665439760,              24],\n",
       "        [135751864943568, 135746622863728,              25]])"
      ]
     },
     "execution_count": 36,
     "metadata": {},
     "output_type": "execute_result"
    }
   ],
   "source": [
    "empty1 = torch.empty_like(a)\n",
    "empty1"
   ]
  },
  {
   "cell_type": "code",
   "execution_count": 39,
   "id": "273aed19-1a1e-4470-bf21-e3ce000790cd",
   "metadata": {},
   "outputs": [
    {
     "name": "stdout",
     "output_type": "stream",
     "text": [
      "tensor([[-3.7765e+34,  4.4288e-41,  1.1351e-43],\n",
      "        [ 0.0000e+00,  1.1273e-08,  4.4291e-41]])\n"
     ]
    }
   ],
   "source": [
    "import torch\n",
    "\n",
    "x = torch.ones(2, 3)  # Creates a 2x3 tensor filled with ones\n",
    "y = torch.empty_like(x)  # Creates another 2x3 tensor with uninitialized values\n",
    "print(y)"
   ]
  },
  {
   "cell_type": "code",
   "execution_count": 41,
   "id": "bdeeecb7-21a9-4324-ab4d-b62100a2e87c",
   "metadata": {},
   "outputs": [
    {
     "name": "stdout",
     "output_type": "stream",
     "text": [
      "cuda\n"
     ]
    }
   ],
   "source": [
    "import torch\n",
    "import time\n",
    "import numpy as np \n",
    "device  = 'cuda' if torch.cuda.is_available() else 'cpu'\n",
    "print(device)"
   ]
  },
  {
   "cell_type": "code",
   "execution_count": 46,
   "id": "2d8a99f2-3964-433d-9455-f01e63ce0739",
   "metadata": {},
   "outputs": [
    {
     "name": "stdout",
     "output_type": "stream",
     "text": [
      " total time :   0.000233\n"
     ]
    }
   ],
   "source": [
    "start_time = time.time()\n",
    "zero = torch.zeros(1,1)\n",
    "end_time = time.time()\n",
    "print(f' total time : {end_time - start_time : 10f}')"
   ]
  },
  {
   "cell_type": "code",
   "execution_count": 57,
   "id": "99c317c8-1e7e-400e-a72d-3bf0ab595993",
   "metadata": {},
   "outputs": [
    {
     "name": "stdout",
     "output_type": "stream",
     "text": [
      " total time :   0.000559\n",
      " total time :   0.083157\n",
      "CPU times: user 1.45 s, sys: 370 ms, total: 1.82 s\n",
      "Wall time: 1.81 s\n"
     ]
    }
   ],
   "source": [
    "%%time\n",
    "torch_rand_tensor_1 = torch.rand(100,100,100,100).to(device)\n",
    "torch_rand_tensor_2 = torch.rand(100,100,100,100).to(device)\n",
    "\n",
    "np_rand_1 = torch.rand(100,100,100,100)\n",
    "np_rand_2 = torch.rand(100,100,100,100)\n",
    "\n",
    "start_time = time.time()\n",
    "\n",
    "rand_tensor = (torch_rand_tensor_1 @ torch_rand_tensor_2)\n",
    "\n",
    "end_time = time.time()\n",
    "\n",
    "print(f' total time : {end_time - start_time : 10f}')\n",
    "\n",
    "start_time = time.time()\n",
    "\n",
    "rand_np = np.multiply(np_rand_1,np_rand_2)\n",
    "\n",
    "end_time = time.time()\n",
    "print(f' total time : {end_time - start_time : 10f}')"
   ]
  },
  {
   "cell_type": "code",
   "execution_count": 51,
   "id": "103332c0-e6da-4e90-88df-cb269a186875",
   "metadata": {},
   "outputs": [
    {
     "data": {
      "text/plain": [
       "torch.Size([100, 100, 100, 100])"
      ]
     },
     "execution_count": 51,
     "metadata": {},
     "output_type": "execute_result"
    }
   ],
   "source": [
    "torch_rand_tensor_1.size()"
   ]
  },
  {
   "cell_type": "code",
   "execution_count": 56,
   "id": "df9e424a-0af0-49d6-9c19-a4c0bb39dca7",
   "metadata": {},
   "outputs": [
    {
     "data": {
      "text/plain": [
       "tensor([0.8887, 0.5923, 0.6005, 0.0260, 0.1581, 0.1934, 0.8898, 0.3742, 0.6202,\n",
       "        0.4810, 0.6941, 0.1559, 0.8572, 0.5317, 0.2281, 0.5980, 0.8265, 0.2034,\n",
       "        0.5838, 0.1994, 0.9865, 0.0103, 0.5401, 0.7153, 0.8773, 0.2133, 0.9266,\n",
       "        0.3443, 0.7334, 0.6442, 0.3077, 0.6929, 0.8553, 0.1287, 0.4603, 0.2150,\n",
       "        0.8735, 0.1418, 0.6749, 0.0951, 0.2546, 0.5867, 0.2652, 0.8241, 0.0794,\n",
       "        0.5018, 0.8295, 0.6131, 0.4356, 0.5829, 0.1755, 0.0338, 0.8113, 0.1069,\n",
       "        0.0357, 0.0369, 0.8634, 0.6515, 0.2627, 0.0389, 0.2428, 0.2450, 0.0281,\n",
       "        0.9208, 0.3115, 0.7315, 0.8487, 0.5799, 0.6158, 0.8574, 0.2041, 0.3736,\n",
       "        0.1848, 0.4465, 0.5589, 0.7433, 0.3898, 0.6742, 0.3056, 0.2691, 0.4745,\n",
       "        0.6456, 0.5237, 0.6981, 0.6058, 0.9609, 0.1604, 0.6961, 0.5877, 0.5841,\n",
       "        0.0358, 0.6552, 0.7978, 0.0229, 0.9951, 0.8314, 0.9052, 0.4995, 0.6920,\n",
       "        0.4744], device='cuda:0')"
      ]
     },
     "execution_count": 56,
     "metadata": {},
     "output_type": "execute_result"
    }
   ],
   "source": [
    "torch_rand_tensor_1[0][0][0]"
   ]
  },
  {
   "cell_type": "code",
   "execution_count": null,
   "id": "e9902906-59ce-4197-b0e4-14a630e5f57e",
   "metadata": {},
   "outputs": [],
   "source": [
    "probailities = torch.tensor([0.1,0.9])\n"
   ]
  }
 ],
 "metadata": {
  "kernelspec": {
   "display_name": "large_language_model",
   "language": "python",
   "name": "large_language_model"
  },
  "language_info": {
   "codemirror_mode": {
    "name": "ipython",
    "version": 3
   },
   "file_extension": ".py",
   "mimetype": "text/x-python",
   "name": "python",
   "nbconvert_exporter": "python",
   "pygments_lexer": "ipython3",
   "version": "3.10.12"
  }
 },
 "nbformat": 4,
 "nbformat_minor": 5
}
