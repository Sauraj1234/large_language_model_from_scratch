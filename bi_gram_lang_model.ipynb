{
 "cells": [
  {
   "cell_type": "code",
   "execution_count": 37,
   "id": "e60ab333-0e9e-4b7f-834f-6bd723da5dad",
   "metadata": {},
   "outputs": [
    {
     "name": "stdout",
     "output_type": "stream",
     "text": [
      "cuda\n"
     ]
    }
   ],
   "source": [
    "import torch\n",
    "device  = 'cuda' if torch.cuda.is_available() else 'cpu'\n",
    "print(device)\n",
    "block_size = 8\n",
    "batch_size = 4"
   ]
  },
  {
   "cell_type": "code",
   "execution_count": 8,
   "id": "7169b6fc-f9df-4cc9-afa2-759e51e3804c",
   "metadata": {},
   "outputs": [
    {
     "name": "stdout",
     "output_type": "stream",
     "text": [
      "['\\n', ' ', '!', '\"', \"'\", '(', ')', '*', ',', '-', '.', '0', '1', '2', '3', '4', '5', '6', '7', '8', '9', ':', ';', '?', 'A', 'B', 'C', 'D', 'E', 'F', 'G', 'H', 'I', 'J', 'K', 'L', 'M', 'N', 'O', 'P', 'R', 'S', 'T', 'U', 'V', 'W', 'Y', 'Z', '[', ']', '_', 'a', 'b', 'c', 'd', 'e', 'f', 'g', 'h', 'i', 'j', 'k', 'l', 'm', 'n', 'o', 'p', 'q', 'r', 's', 't', 'u', 'v', 'w', 'x', 'y', 'z', 'é', '\\ufeff']\n",
      "79\n"
     ]
    }
   ],
   "source": [
    "with open('hairy_book_text.txt', 'r',encoding='utf-8') as f:\n",
    "    text = f.read()\n",
    "chars = sorted(set(text))\n",
    "print(chars)\n",
    "print(len(chars))"
   ]
  },
  {
   "cell_type": "code",
   "execution_count": 26,
   "id": "df5c0dc4-98af-4c4b-9cf0-772cb5e1efda",
   "metadata": {},
   "outputs": [
    {
     "data": {
      "text/plain": [
       "145898"
      ]
     },
     "execution_count": 26,
     "metadata": {},
     "output_type": "execute_result"
    }
   ],
   "source": [
    "len(text)"
   ]
  },
  {
   "cell_type": "code",
   "execution_count": 17,
   "id": "66636ef8-3cb3-417f-bd4f-b099b271ee08",
   "metadata": {},
   "outputs": [],
   "source": [
    "string_to_int = { char:i for i, char in enumerate(chars)}\n",
    "int_to_string = { i:char for i, char in enumerate(chars)}\n",
    "encode = lambda string : [string_to_int[c] for c in string ]\n",
    "decode = lambda integer : ''.join([int_to_string[i] for i in integer ])"
   ]
  },
  {
   "cell_type": "code",
   "execution_count": 18,
   "id": "40d88dbb-5aad-4fce-8fd1-4f84c6cc4c3a",
   "metadata": {},
   "outputs": [
    {
     "name": "stdout",
     "output_type": "stream",
     "text": [
      "[58, 55, 62, 62, 65]\n",
      "hello\n"
     ]
    }
   ],
   "source": [
    "encode_hello = encode('hello')\n",
    "decode_hello = decode(encode_hello)\n",
    "print(encode_hello)\n",
    "print(decode_hello)"
   ]
  },
  {
   "cell_type": "code",
   "execution_count": 22,
   "id": "921b3075-4b02-46d9-a1bf-9a4afaceb538",
   "metadata": {},
   "outputs": [],
   "source": [
    "data = torch.tensor(encode(text), dtype=torch.long)"
   ]
  },
  {
   "cell_type": "code",
   "execution_count": 27,
   "id": "8c96faf4-e517-4ce0-9571-124a1b340f3b",
   "metadata": {},
   "outputs": [
    {
     "name": "stdout",
     "output_type": "stream",
     "text": [
      "tensor([78,  0, 50, 42, 65,  1, 45, 58, 65, 63,  1, 32, 70,  1, 36, 51, 75,  1,\n",
      "        26, 65, 64, 53, 55, 68, 64, 21, 50,  0,  0, 50, 29, 55, 73,  1, 73, 65,\n",
      "        68, 54, 69,  1, 51, 68, 55,  1, 52, 55, 69, 70,  8,  1, 51, 69,  1, 41,\n",
      "        59, 68,  1, 39, 58, 59, 62, 59, 66,  1, 41, 59, 54, 64, 55, 75,  1, 65,\n",
      "        64, 53, 55,  1, 73, 68, 65, 70, 55,  1, 59, 64,  1, 53, 58, 51, 62, 62,\n",
      "        55, 64, 57, 59, 64, 57,  1, 51, 64,  0])\n"
     ]
    }
   ],
   "source": [
    "print(data[:100])"
   ]
  },
  {
   "cell_type": "code",
   "execution_count": 31,
   "id": "10c2096c-2cb9-4ffc-bb35-9cc5f6d94459",
   "metadata": {},
   "outputs": [],
   "source": [
    "n =int(0.8*len(text))\n",
    "\n",
    "train_data = data[:n]\n",
    "validation_data=  data[n:]"
   ]
  },
  {
   "cell_type": "code",
   "execution_count": 36,
   "id": "e45271ea-819f-4241-992c-941145672e15",
   "metadata": {},
   "outputs": [
    {
     "name": "stdout",
     "output_type": "stream",
     "text": [
      "tesor x:context : tensor([78]) and y:target : 0\n",
      "tesor x:context : tensor([78,  0]) and y:target : 50\n",
      "tesor x:context : tensor([78,  0, 50]) and y:target : 42\n",
      "tesor x:context : tensor([78,  0, 50, 42]) and y:target : 65\n",
      "tesor x:context : tensor([78,  0, 50, 42, 65]) and y:target : 1\n",
      "tesor x:context : tensor([78,  0, 50, 42, 65,  1]) and y:target : 45\n",
      "tesor x:context : tensor([78,  0, 50, 42, 65,  1, 45]) and y:target : 58\n",
      "tesor x:context : tensor([78,  0, 50, 42, 65,  1, 45, 58]) and y:target : 65\n"
     ]
    }
   ],
   "source": [
    "x = train_data[:block_size]\n",
    "y =  train_data[1:block_size+1]\n",
    "\n",
    "for i in range(block_size):\n",
    "    X_value=x[:i+1]\n",
    "    Y_value= y[i]\n",
    "    print(f'tesor x:context : {X_value} and y:target : {Y_value}')"
   ]
  },
  {
   "cell_type": "code",
   "execution_count": null,
   "id": "8b86a09d-afa6-4720-92a5-33ae36936728",
   "metadata": {},
   "outputs": [],
   "source": []
  }
 ],
 "metadata": {
  "kernelspec": {
   "display_name": "large_language_model",
   "language": "python",
   "name": "large_language_model"
  },
  "language_info": {
   "codemirror_mode": {
    "name": "ipython",
    "version": 3
   },
   "file_extension": ".py",
   "mimetype": "text/x-python",
   "name": "python",
   "nbconvert_exporter": "python",
   "pygments_lexer": "ipython3",
   "version": "3.10.12"
  }
 },
 "nbformat": 4,
 "nbformat_minor": 5
}
